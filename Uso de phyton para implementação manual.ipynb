{
  "nbformat": 4,
  "nbformat_minor": 0,
  "metadata": {
    "colab": {
      "provenance": [],
      "authorship_tag": "ABX9TyMoiRGaQ9f9LswbSwTd/7Ap",
      "include_colab_link": true
    },
    "kernelspec": {
      "name": "python3",
      "display_name": "Python 3"
    },
    "language_info": {
      "name": "python"
    }
  },
  "cells": [
    {
      "cell_type": "markdown",
      "metadata": {
        "id": "view-in-github",
        "colab_type": "text"
      },
      "source": [
        "<a href=\"https://colab.research.google.com/github/luiss1n/Teste-Faculdade./blob/main/Uso%20de%20phyton%20para%20implementa%C3%A7%C3%A3o%20manual.ipynb\" target=\"_parent\"><img src=\"https://colab.research.google.com/assets/colab-badge.svg\" alt=\"Open In Colab\"/></a>"
      ]
    },
    {
      "cell_type": "code",
      "execution_count": 15,
      "metadata": {
        "colab": {
          "base_uri": "https://localhost:8080/"
        },
        "id": "T9RTftlHlAPV",
        "outputId": "88244be9-fc43-432e-f5fa-08ce9ec4a9e9"
      },
      "outputs": [
        {
          "output_type": "stream",
          "name": "stdout",
          "text": [
            "Solucao do sistema 3x3 [-0.04545455  0.54545455  0.54545455]\n"
          ]
        }
      ],
      "source": [
        "import numpy as np\n",
        "\n",
        "def metodo_cramer(A, B):\n",
        "    det_A = np.linalg.det(A)\n",
        "    if det_A == 0:\n",
        "      raise ValueError(\"Sistema sem solução unica (determinante nula)\")\n",
        "\n",
        "    n = A.shape[0]\n",
        "    solucao = np.zeros(n)\n",
        "\n",
        "    for i in range(n):\n",
        "        A_i = A.copy()\n",
        "        A_i[:, i] = B\n",
        "        solucao[i] = np.linalg.det(A_i) / det_A\n",
        "\n",
        "    return solucao\n",
        "\n",
        "A = np.array([[2, 3, -1], [4, -1, 5], [-6, 2, 3]], dtype=float)\n",
        "B = np.array([1, 2, 3], dtype=float)\n",
        "\n",
        "solucao = metodo_cramer(A, B)\n",
        "print(\"Solucao do sistema 3x3\", solucao)"
      ]
    }
  ]
}