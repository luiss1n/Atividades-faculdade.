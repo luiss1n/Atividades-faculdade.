{
  "nbformat": 4,
  "nbformat_minor": 0,
  "metadata": {
    "colab": {
      "provenance": [],
      "authorship_tag": "ABX9TyNg4FjyqLBmX3+E0ZqHvq7O",
      "include_colab_link": true
    },
    "kernelspec": {
      "name": "python3",
      "display_name": "Python 3"
    },
    "language_info": {
      "name": "python"
    }
  },
  "cells": [
    {
      "cell_type": "markdown",
      "metadata": {
        "id": "view-in-github",
        "colab_type": "text"
      },
      "source": [
        "<a href=\"https://colab.research.google.com/github/luiss1n/Teste-Faculdade./blob/main/Matriz%20inversa.ipynb\" target=\"_parent\"><img src=\"https://colab.research.google.com/assets/colab-badge.svg\" alt=\"Open In Colab\"/></a>"
      ]
    },
    {
      "cell_type": "code",
      "execution_count": 11,
      "metadata": {
        "colab": {
          "base_uri": "https://localhost:8080/"
        },
        "id": "T9RTftlHlAPV",
        "outputId": "8b537daa-d3ab-44b9-8792-f2768e46a162"
      },
      "outputs": [
        {
          "output_type": "stream",
          "name": "stdout",
          "text": [
            "-6\n",
            "[[ 0.28571429  0.71428571 -0.42857143]\n",
            " [ 0.28571429 -1.28571429  0.57142857]\n",
            " [-0.42857143  0.42857143  0.14285714]]\n"
          ]
        }
      ],
      "source": [
        "import numpy as np\n",
        "A = np.array([\n",
        "    [3 , 2, 1],\n",
        "    [2, 1 ,2],\n",
        "    [3, 3, 4]\n",
        "])\n",
        "\n",
        "det_A = np.linalg.det(A)\n",
        "print(int(det_A))\n",
        "\n",
        "if det_A != 0:\n",
        "  Inv_A = np.linalg.inv(A)\n",
        "  print(Inv_A)\n",
        "else :\n",
        "  print(\"Matriz não tem inversa\")\n"
      ]
    }
  ]
}